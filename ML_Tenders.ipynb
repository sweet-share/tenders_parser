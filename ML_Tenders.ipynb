{
 "cells": [
  {
   "cell_type": "code",
   "execution_count": null,
   "id": "9ba25f00",
   "metadata": {
    "id": "9ba25f00"
   },
   "outputs": [],
   "source": [
    "import itertools\n",
    "import pickle\n",
    "\n",
    "import pandas as pd\n",
    "import numpy as np\n",
    "\n",
    "import matplotlib\n",
    "import matplotlib.pyplot as plt\n",
    "import matplotlib.patches as mpatches\n",
    "\n",
    "from sklearn.metrics import confusion_matrix, accuracy_score, f1_score, precision_score, recall_score,\\\n",
    "classification_report, roc_auc_score\n",
    "from sklearn.model_selection import train_test_split, cross_val_score\n",
    "\n",
    "from sklearn.feature_extraction.text import TfidfVectorizer\n",
    "from sklearn.linear_model import LogisticRegression, LogisticRegressionCV\n",
    "\n",
    "from sklearn.decomposition import TruncatedSVD\n",
    "\n",
    "import torch\n",
    "import torch.nn.functional as F\n",
    "from torch.utils.data import TensorDataset, DataLoader, RandomSampler, SequentialSampler\n",
    "from transformers import BertTokenizer, BertForSequenceClassification\n",
    "\n",
    "from tqdm import tqdm\n",
    "from tqdm import trange\n",
    "\n",
    "import warnings\n",
    "warnings.filterwarnings('ignore')"
   ]
  },
  {
   "cell_type": "markdown",
   "id": "YM4wXgtEOmDu",
   "metadata": {
    "id": "YM4wXgtEOmDu"
   },
   "source": [
    "# Create functions"
   ]
  },
  {
   "cell_type": "code",
   "execution_count": 19,
   "id": "302fe712",
   "metadata": {
    "id": "302fe712"
   },
   "outputs": [],
   "source": [
    "def standardize_text(df):\n",
    "    df['Переведенный текст'] = df['Переведенный текст'].str.replace(r'[^\\w\\s]|(https|http)\\S+|_x000d\\S+', \"\",\n",
    "                                                                    regex=True)\n",
    "    df['Переведенный текст'] = df['Переведенный текст'].dropna()\n",
    "    return df"
   ]
  },
  {
   "cell_type": "code",
   "execution_count": 20,
   "id": "23e2b12e",
   "metadata": {
    "id": "23e2b12e"
   },
   "outputs": [],
   "source": [
    "def build_features(df):\n",
    "    tfidf = TfidfVectorizer(sublinear_tf=True, min_df=2, norm='l2', encoding='latin-1', ngram_range=(1, 2),\n",
    "                            stop_words='english')\n",
    "    X = tfidf.fit_transform(df['Переведенный текст']).toarray()\n",
    "    y = df['Отношение к атомной отрасли']\n",
    "    return X, y, tfidf"
   ]
  },
  {
   "cell_type": "code",
   "execution_count": 21,
   "id": "8564bc7c",
   "metadata": {
    "id": "8564bc7c"
   },
   "outputs": [],
   "source": [
    "def train_model(clf, X_train, y_train):\n",
    "    clf.fit(X_train, y_train)\n",
    "    return clf"
   ]
  },
  {
   "cell_type": "code",
   "execution_count": 22,
   "id": "87cfe7b7",
   "metadata": {
    "id": "87cfe7b7"
   },
   "outputs": [],
   "source": [
    "def show_metrics(y_test, y_pred):\n",
    "    precision = precision_score(y_test, y_pred, pos_label=None, average='macro')\n",
    "    recall = recall_score(y_test, y_pred, pos_label=None, average='macro')\n",
    "    accuracy = accuracy_score(y_test, y_pred)\n",
    "    \n",
    "    f1 = f1_score(y_test, y_pred, pos_label=None, average='macro')\n",
    "    roc_auc = roc_auc_score(y_test, y_pred)\n",
    "\n",
    "    return accuracy, precision, recall, f1, roc_auc"
   ]
  },
  {
   "cell_type": "code",
   "execution_count": 23,
   "id": "0ddff927",
   "metadata": {
    "id": "0ddff927"
   },
   "outputs": [],
   "source": [
    "def bert_preprocessing(text, labels, val_ratio=0.2, batch_size=16):\n",
    "    tokenizer = BertTokenizer.from_pretrained('bert-base-uncased', do_lower_case = True)\n",
    "    token_id = []\n",
    "    attention_masks = []\n",
    "    \n",
    "    def preprocessing(input_text, tokenizer):\n",
    "        return tokenizer.encode_plus(\n",
    "                            input_text,\n",
    "                            add_special_tokens = True,\n",
    "                            max_length = 32,\n",
    "                            pad_to_max_length = True,\n",
    "                            return_attention_mask = True,\n",
    "                            truncation=True,\n",
    "                            return_tensors = 'pt')\n",
    "\n",
    "    for sample in text:\n",
    "        encoding_dict = preprocessing(sample, tokenizer)\n",
    "        token_id.append(encoding_dict['input_ids']) \n",
    "        attention_masks.append(encoding_dict['attention_mask'])\n",
    "\n",
    "    token_id = torch.cat(token_id, dim = 0)\n",
    "    attention_masks = torch.cat(attention_masks, dim = 0)\n",
    "    labels = torch.tensor(labels)\n",
    "\n",
    "    train_idx, val_idx = train_test_split(\n",
    "        np.arange(len(labels)),\n",
    "        test_size = val_ratio,\n",
    "        shuffle = True,\n",
    "        stratify = labels)\n",
    "\n",
    "    train_set = TensorDataset(token_id[train_idx], \n",
    "                              attention_masks[train_idx], \n",
    "                              labels[train_idx])\n",
    "\n",
    "    val_set = TensorDataset(token_id[val_idx], \n",
    "                            attention_masks[val_idx], \n",
    "                            labels[val_idx])\n",
    "\n",
    "    train_dataloader = DataLoader(\n",
    "                train_set,\n",
    "                sampler = RandomSampler(train_set),\n",
    "                batch_size = batch_size\n",
    "            )\n",
    "\n",
    "    validation_dataloader = DataLoader(\n",
    "                val_set,\n",
    "                sampler = SequentialSampler(val_set),\n",
    "                batch_size = batch_size\n",
    "            )\n",
    "    return train_dataloader, validation_dataloader"
   ]
  },
  {
   "cell_type": "code",
   "execution_count": 24,
   "id": "30eb8f19",
   "metadata": {
    "id": "30eb8f19"
   },
   "outputs": [],
   "source": [
    "def bert_train(model, train_dataloader, epochs=2):\n",
    "    optimizer = torch.optim.AdamW(model.parameters(), \n",
    "                                  lr = 5e-5,\n",
    "                                  eps = 1e-08\n",
    "                                  )\n",
    "    device = torch.device('cuda' if torch.cuda.is_available() else 'cpu')\n",
    "    for _ in trange(epochs, desc = 'Epoch'):\n",
    "        model.train()\n",
    "        tr_loss = 0\n",
    "        nb_tr_examples, nb_tr_steps = 0, 0\n",
    "\n",
    "        for step, batch in enumerate(train_dataloader):\n",
    "            batch = tuple(t.to(device) for t in batch)\n",
    "            b_input_ids, b_input_mask, b_labels = batch\n",
    "            optimizer.zero_grad()\n",
    "\n",
    "            train_output = model(b_input_ids, \n",
    "                                 token_type_ids = None, \n",
    "                                 attention_mask = b_input_mask, \n",
    "                                 labels = b_labels)\n",
    "\n",
    "            train_output.loss.backward()\n",
    "            optimizer.step()\n",
    "\n",
    "            tr_loss += train_output.loss.item()\n",
    "            nb_tr_examples += b_input_ids.size(0)\n",
    "            nb_tr_steps += 1\n",
    "            print('\\n\\t - Train loss: {:.4f}'.format(tr_loss / nb_tr_steps))\n",
    "        return model\n",
    "\n",
    "def bert_eval(model, validation_dataloader):\n",
    "    device = torch.device('cuda' if torch.cuda.is_available() else 'cpu')\n",
    "    model.eval()\n",
    "\n",
    "    # Tracking variables \n",
    "    val_accuracy = []\n",
    "    val_precision = []\n",
    "    val_recall = []\n",
    "    val_roc_auc = []\n",
    "    val_f1 =[]\n",
    "\n",
    "    for batch in validation_dataloader:\n",
    "        batch = tuple(t.to(device) for t in batch)\n",
    "        b_input_ids, b_input_mask, b_labels = batch\n",
    "        with torch.no_grad():\n",
    "          eval_output = model(b_input_ids, \n",
    "                              token_type_ids = None, \n",
    "                              attention_mask = b_input_mask)\n",
    "        logits = eval_output.logits.detach().cpu().numpy()\n",
    "        labels_pred = [torch.argmax(F.softmax(torch.tensor(element))) for element in logits]\n",
    "        label_ids = b_labels.to('cpu').numpy()\n",
    "\n",
    "        accuracy, precision, recall, f1, roc_auc = show_metrics(labels_pred, label_ids)\n",
    "        val_accuracy.append(accuracy)\n",
    "        if precision != 'nan': val_precision.append(precision)\n",
    "        if recall != 'nan': val_recall.append(recall)\n",
    "        if f1 != 'nan': val_f1.append(precision)\n",
    "        if roc_auc != 'nan': val_roc_auc.append(recall)\n",
    "\n",
    "    print(f'\\t - Validation Accuracy: {(sum(val_accuracy)/len(val_accuracy))}')\n",
    "    print(f'\\t - Validation Precision: {(sum(val_precision)/len(val_precision))}' if len(val_precision)>0 else '\\t - Validation Precision: NaN')\n",
    "    print(f'\\t - Validation Recall: {(sum(val_recall)/len(val_recall))}' if len(val_recall)>0 else '\\t - Validation Recall: NaN')\n",
    "    print(f'\\t - Validation f1: {(sum(val_precision)/len(val_precision))}' if len(val_precision)>0 else '\\t - Validation Precision: NaN')\n",
    "    print(f'\\t - Validation ROC-AUC: {(sum(val_recall)/len(val_recall))}' if len(val_recall)>0 else '\\t - Validation Recall: NaN')"
   ]
  },
  {
   "cell_type": "code",
   "execution_count": 25,
   "id": "73b4e5b6",
   "metadata": {
    "id": "73b4e5b6"
   },
   "outputs": [],
   "source": [
    "def plot_confusion_matrix(cm, classes, normalize=False, title='Confusion matrix', cmap=plt.cm.winter):\n",
    "    if normalize:\n",
    "        cm = cm.astype('float') / cm.sum(axis=1)[:, np.newaxis]\n",
    "    plt.imshow(cm, interpolation='nearest', cmap=cmap)\n",
    "    plt.title(title, fontsize=30)\n",
    "    plt.colorbar()\n",
    "    tick_marks = np.arange(len(classes))\n",
    "    plt.xticks(tick_marks, classes, fontsize=20)\n",
    "    plt.yticks(tick_marks, classes, fontsize=20)\n",
    "\n",
    "    fmt = '.2f' if normalize else 'd'\n",
    "    thresh = cm.max() / 2.\n",
    "\n",
    "    for i, j in itertools.product(range(cm.shape[0]), range(cm.shape[1])):\n",
    "        plt.text(j, i, format(cm[i, j], fmt), horizontalalignment=\"center\",\n",
    "                 color=\"white\" if cm[i, j] < thresh else \"black\", fontsize=40)\n",
    "\n",
    "    plt.tight_layout()\n",
    "    plt.ylabel('True label', fontsize=30)\n",
    "    plt.xlabel('Predicted label', fontsize=30)\n",
    "    return plt"
   ]
  },
  {
   "cell_type": "code",
   "execution_count": 26,
   "id": "650b307c",
   "metadata": {
    "id": "650b307c"
   },
   "outputs": [],
   "source": [
    "def plot_lsa(test_data, test_labels, plot=True):\n",
    "    lsa = TruncatedSVD(n_components=3)\n",
    "    lsa.fit(test_data)\n",
    "    lsa_scores = lsa.transform(test_data)\n",
    "    color_mapper = {label: idx for idx, label in enumerate(set(test_labels))}\n",
    "    color_column = [color_mapper[label] for label in test_labels]\n",
    "    colors = ['orange', 'blue']\n",
    "    if plot:\n",
    "        plt.scatter(lsa_scores[:, 0], lsa_scores[:, 1], s=8, alpha=.8, c=test_labels,\n",
    "                    cmap=matplotlib.colors.ListedColormap(colors))\n",
    "        red_patch = mpatches.Patch(color='orange', label='0')\n",
    "        green_patch = mpatches.Patch(color='blue', label='1')\n",
    "        plt.legend(handles=[red_patch, green_patch], prop={'size': 30})"
   ]
  },
  {
   "cell_type": "code",
   "execution_count": 27,
   "id": "c45e4425",
   "metadata": {
    "id": "c45e4425"
   },
   "outputs": [],
   "source": [
    "def get_most_important_features(vectorizer, model, n=5):\n",
    "    index_to_word = {v: k for k, v in vectorizer.vocabulary_.items()}\n",
    "\n",
    "    classes = {}\n",
    "    for class_index in range(model.coef_.shape[0]):\n",
    "        word_importances = [(el, index_to_word[i]) for i, el in enumerate(model.coef_[class_index])]\n",
    "        sorted_coeff = sorted(word_importances, key=lambda x: x[0], reverse=True)\n",
    "        tops = sorted(sorted_coeff[:n], key=lambda x: x[0])\n",
    "        bottom = sorted_coeff[-n:]\n",
    "        classes[class_index] = {\n",
    "            'tops': tops,\n",
    "            'bottom': bottom\n",
    "        }\n",
    "\n",
    "    top_scores = [a[0] for a in classes[0]['tops']]\n",
    "    top_words = [a[1] for a in classes[0]['tops']]\n",
    "    bottom_scores = [a[0] for a in classes[0]['bottom']]\n",
    "    bottom_words = [a[1] for a in classes[0]['bottom']]\n",
    "    y_pos = np.arange(len(top_words))\n",
    "    top_pairs = [(a, b) for a, b in zip(top_words, top_scores)]\n",
    "    top_pairs = sorted(top_pairs, key=lambda x: x[1])\n",
    "\n",
    "    bottom_pairs = [(a, b) for a, b in zip(bottom_words, bottom_scores)]\n",
    "    bottom_pairs = sorted(bottom_pairs, key=lambda x: x[1], reverse=True)\n",
    "\n",
    "    top_words = [a[0] for a in top_pairs]\n",
    "    top_scores = [a[1] for a in top_pairs]\n",
    "\n",
    "    bottom_words = [a[0] for a in bottom_pairs]\n",
    "    bottom_scores = [a[1] for a in bottom_pairs]\n",
    "\n",
    "    fig = plt.figure(figsize=(10, 10))\n",
    "\n",
    "    plt.subplot(121)\n",
    "    plt.barh(y_pos, bottom_scores, align='center', alpha=0.5)\n",
    "    plt.title('Non-nuclear', fontsize=20)\n",
    "    plt.yticks(y_pos, bottom_words, fontsize=14)\n",
    "    plt.suptitle('Key words', fontsize=16)\n",
    "    plt.xlabel('Importance', fontsize=20)\n",
    "\n",
    "    plt.subplot(122)\n",
    "    plt.barh(y_pos, top_scores, align='center', alpha=0.5)\n",
    "    plt.title('Nuclear', fontsize=20)\n",
    "    plt.yticks(y_pos, top_words, fontsize=14)\n",
    "    plt.suptitle('Most relevant words', fontsize=16)\n",
    "    plt.xlabel('Importance', fontsize=20)\n",
    "\n",
    "    plt.subplots_adjust(wspace=0.8)\n",
    "    plt.show()"
   ]
  },
  {
   "cell_type": "code",
   "execution_count": 28,
   "id": "246566c4",
   "metadata": {
    "id": "246566c4"
   },
   "outputs": [],
   "source": [
    "def prediction(df, clf, tfidf):\n",
    "    df = standardize_text(df)\n",
    "    df['Отношение к атомной отрасли'] = clf.predict(tfidf.transform(df['Переведенный текст']).toarray())\n",
    "\n",
    "    with pd.ExcelWriter('Predicted_values.xlsx', engine='xlsxwriter') as wb:\n",
    "        df.to_excel(wb, sheet_name='Тендеры', index=False)\n",
    "        workbook = wb.book\n",
    "        sheet = wb.sheets['Тендеры']\n",
    "        sheet.autofilter('A1:K' + str(df.shape[0]))\n",
    "        sheet.set_default_row(50)\n",
    "        sheet.set_column('B:H', 25)\n",
    "        sheet.set_column('A:A', 15)\n",
    "        sheet.set_column('D:D', 14)\n",
    "        sheet.set_column('G:G', 17)\n",
    "        sheet.set_column('I:J', 10)\n",
    "        sheet.set_column('K:K', 15)"
   ]
  },
  {
   "cell_type": "markdown",
   "id": "q4l2_xkaOyD0",
   "metadata": {
    "id": "q4l2_xkaOyD0"
   },
   "source": [
    "# Logreg train and evaluation"
   ]
  },
  {
   "cell_type": "code",
   "execution_count": 29,
   "id": "425b926b",
   "metadata": {
    "id": "425b926b"
   },
   "outputs": [
    {
     "name": "stdout",
     "output_type": "stream",
     "text": [
      "True\n"
     ]
    }
   ],
   "source": [
    "df = pd.read_excel('train_dataset.xlsx')\n",
    "device = torch.device('cuda:0' if torch.cuda.is_available() else 'cpu')\n",
    "print(torch.cuda.is_available())"
   ]
  },
  {
   "cell_type": "code",
   "execution_count": 30,
   "id": "34141d02",
   "metadata": {
    "id": "34141d02"
   },
   "outputs": [],
   "source": [
    "# building features\n",
    "X, y, tfidf = build_features(df)\n",
    "X_train, X_test, y_train, y_test = train_test_split(X, y, test_size=0.2, random_state=10, stratify=y)"
   ]
  },
  {
   "cell_type": "code",
   "execution_count": 31,
   "id": "bmBrqS2GQWOd",
   "metadata": {
    "colab": {
     "base_uri": "https://localhost:8080/",
     "height": 269
    },
    "id": "bmBrqS2GQWOd",
    "outputId": "49415a2b-54ac-4740-8c4c-65da1f1bdb2b"
   },
   "outputs": [
    {
     "data": {
      "text/plain": "<Figure size 640x480 with 1 Axes>",
      "image/png": "[encoded data removed]"
     },
     "metadata": {},
     "output_type": "display_data"
    }
   ],
   "source": [
    "# LSA-analysis of texts\n",
    "plot_lsa(X_train, y_train)\n",
    "plt.show()"
   ]
  },
  {
   "cell_type": "code",
   "execution_count": 32,
   "id": "527bbb31",
   "metadata": {
    "id": "527bbb31"
   },
   "outputs": [],
   "source": [
    "# logreg training\n",
    "clf = LogisticRegressionCV(solver='newton-cg', multi_class='ovr', n_jobs=-1, random_state=0)\n",
    "clf = train_model(clf, X_train, y_train)\n",
    "y_pred = clf.predict(X_test)"
   ]
  },
  {
   "cell_type": "code",
   "execution_count": 33,
   "id": "211343e3",
   "metadata": {
    "colab": {
     "base_uri": "https://localhost:8080/"
    },
    "id": "211343e3",
    "outputId": "a6334e7e-de05-4ab5-a14d-0926758b37e0"
   },
   "outputs": [
    {
     "name": "stdout",
     "output_type": "stream",
     "text": [
      "accuracy = 0.8811881188118812,\n",
      "precision = 0.8973360655737705,\n",
      "recall = 0.8801960784313725,\n",
      "f1 = 0.8797619047619047,\n",
      "roc_auc = 0.8801960784313726.\n",
      "\n",
      "Classification report:\n",
      "\n",
      "               precision    recall  f1-score   support\n",
      "\n",
      "           0       0.82      0.98      0.89        51\n",
      "           1       0.97      0.78      0.87        50\n",
      "\n",
      "    accuracy                           0.88       101\n",
      "   macro avg       0.90      0.88      0.88       101\n",
      "weighted avg       0.90      0.88      0.88       101\n",
      "\n"
     ]
    }
   ],
   "source": [
    "# metrics output\n",
    "accuracy, precision, recall, f1, roc_auc = show_metrics(y_test, y_pred)\n",
    "print(f\"accuracy = {accuracy},\\nprecision = {precision},\\nrecall = {recall},\\nf1 = {f1},\\nroc_auc = {roc_auc}.\\n\", end='\\n') \n",
    "cr = classification_report(y_test, y_pred)\n",
    "print('Classification report:\\n\\n', cr, end='\\n')"
   ]
  },
  {
   "cell_type": "code",
   "execution_count": 34,
   "id": "f2ca4edb",
   "metadata": {
    "id": "f2ca4edb"
   },
   "outputs": [],
   "source": [
    "# training classifier on the whole data\n",
    "clf = train_model(clf, X, y)"
   ]
  },
  {
   "cell_type": "code",
   "execution_count": 35,
   "id": "e9af78ed",
   "metadata": {
    "colab": {
     "base_uri": "https://localhost:8080/"
    },
    "id": "e9af78ed",
    "outputId": "04a2be06-028f-4a92-e4b1-bd2f78693262"
   },
   "outputs": [
    {
     "name": "stdout",
     "output_type": "stream",
     "text": [
      "Cross-validation:  [0.68      0.7900641 1.        1.        1.        0.9984    1.\n",
      " 1.        1.        0.9344   ]\n"
     ]
    }
   ],
   "source": [
    "# cross-validation\n",
    "cv = cross_val_score(clf, X, y, scoring='roc_auc', cv=10)\n",
    "print('Cross-validation: ', cv)"
   ]
  },
  {
   "cell_type": "code",
   "execution_count": 36,
   "id": "8c183c6a",
   "metadata": {
    "colab": {
     "base_uri": "https://localhost:8080/",
     "height": 383
    },
    "id": "8c183c6a",
    "outputId": "2e11ce27-9eb2-479f-f2c5-d79009edbd50"
   },
   "outputs": [
    {
     "data": {
      "text/plain": "<Figure size 500x500 with 2 Axes>",
      "image/png": "[encoded data removed]"
     },
     "metadata": {},
     "output_type": "display_data"
    }
   ],
   "source": [
    "# confusion matrix\n",
    "cm = confusion_matrix(y_test, y_pred)\n",
    "fig = plt.figure(figsize=(5, 5))\n",
    "plot = plot_confusion_matrix(cm, classes=['0', '1'], normalize=False, title='Confusion matrix')\n",
    "plt.show()"
   ]
  },
  {
   "cell_type": "code",
   "execution_count": 37,
   "id": "873d2274",
   "metadata": {
    "colab": {
     "base_uri": "https://localhost:8080/",
     "height": 686
    },
    "id": "873d2274",
    "outputId": "b316dfdf-6b1d-4c62-cdf1-5e2de9d7f32e"
   },
   "outputs": [
    {
     "data": {
      "text/plain": "<Figure size 1000x1000 with 2 Axes>",
      "image/png": "[encoded data removed]"
     },
     "metadata": {},
     "output_type": "display_data"
    }
   ],
   "source": [
    "# word importance\n",
    "importance = get_most_important_features(tfidf, clf, 10)"
   ]
  },
  {
   "cell_type": "markdown",
   "id": "5cjqBAM3PCgR",
   "metadata": {
    "id": "5cjqBAM3PCgR"
   },
   "source": [
    "# BERT fine-tuning and evaluation"
   ]
  },
  {
   "cell_type": "code",
   "execution_count": 38,
   "id": "36dd00dd",
   "metadata": {
    "colab": {
     "base_uri": "https://localhost:8080/",
     "height": 113,
     "referenced_widgets": [
      "b9f17d4cd10d478191515123ed087135",
      "f669763a612e4a13b8412c9b56d43a6a",
      "0698b87b0e48416ebeda6cff57776f41",
      "02196ad4f45c4c55a9a6613658157fa7",
      "bec8fda873d34941bb657a2de8268643",
      "704f8f9a536548338b82d6894ab21089",
      "46f755596030402682e82589ad858193",
      "b6a26968d60344479ee09847d9f6a4a7",
      "95e48384483946d1ad7014da77148e8e",
      "d16a927128194f1281f8d1196e0874a8",
      "1eac6e8e59c74a739b37714cfad4bb84",
      "27f17dc9bdd34062a0af7e01a5f573a6",
      "569d7af621894db0bb3e8b06892cfc3b",
      "afef8af173da4d52ae2dce0c7be70b55",
      "d1138e9493e145b68bf19813893fe4c6",
      "2fb6ec1c2219445b9e659bfba8882fa0",
      "5eaf37cbfd934937bea86ecac7c6292f",
      "0e00d8ac7a6a4e3e85e93ed04b8d0d28",
      "bb6ccbaf74c8470f935a985ea9e85807",
      "777ef5db74104fc4aa74b19a0f333547",
      "62b6c31af1714476b257095d74da2dc5",
      "a97731f9b16747919b66486871ad8221",
      "766ae74c5beb4039ac6cc8757a0b2141",
      "e2899116ce144bc6b9092b9e6bdbf46e",
      "1dcb4101a8f440e992d82f81cfb99a67",
      "f44c96c477674a8aa96041d0326bea43",
      "3609f8a3305b470aa7b4587117c906bf",
      "3b07ead01acf4a589cb0142d2eec92e9",
      "95d051bd5e6645f5b38c5cc778ca518b",
      "d3c981b1f09a47648e680d02d294a49c",
      "4d9d667e7f484967a9590102992fe92b",
      "c4fae3a4000742b1b2fd35fc56f5e6b5",
      "be5566f5654b4347bbed8a7960253e17"
     ]
    },
    "id": "36dd00dd",
    "outputId": "3a3c2d91-ba93-4e24-dff6-bc75f45a9468"
   },
   "outputs": [],
   "source": [
    "# text processing for BERT\n",
    "train_dataloader, validation_dataloader = bert_preprocessing(df['Переведенный текст'], y, val_ratio=0.2, batch_size=16)"
   ]
  },
  {
   "cell_type": "code",
   "execution_count": 62,
   "id": "101588d8",
   "metadata": {
    "colab": {
     "base_uri": "https://localhost:8080/",
     "height": 156,
     "referenced_widgets": [
      "4f7acc86af1d4bdfba1a888fa38bf545",
      "bf7119f53ca642e3b519f3ab09ac4704",
      "a767020a8a1d4c808cc42d6e5244c01d",
      "acb91132c2624311bbe814a40e3f404b",
      "28e3c246eda24c8686b291d85b8762a9",
      "958b2202049d4acc928d45c5907c168a",
      "53aa3a9685f44ca4a9b1630b7ad19959",
      "95323af7478e4381819dd7ba43681845",
      "683ceb82888a44348861f7ae37646f03",
      "34d4f6f8b5a140bcb41049b86f531eca",
      "f6f221daac4a43f989edcdc33fadf16f"
     ]
    },
    "id": "101588d8",
    "outputId": "dde20655-3d13-4a1c-80b3-78cd060e17be"
   },
   "outputs": [
    {
     "name": "stderr",
     "output_type": "stream",
     "text": [
      "Some weights of the model checkpoint at bert-base-uncased were not used when initializing BertForSequenceClassification: ['cls.predictions.bias', 'cls.seq_relationship.bias', 'cls.predictions.transform.LayerNorm.bias', 'cls.predictions.transform.dense.weight', 'cls.predictions.transform.LayerNorm.weight', 'cls.predictions.decoder.weight', 'cls.seq_relationship.weight', 'cls.predictions.transform.dense.bias']\n",
      "- This IS expected if you are initializing BertForSequenceClassification from the checkpoint of a model trained on another task or with another architecture (e.g. initializing a BertForSequenceClassification model from a BertForPreTraining model).\n",
      "- This IS NOT expected if you are initializing BertForSequenceClassification from the checkpoint of a model that you expect to be exactly identical (initializing a BertForSequenceClassification model from a BertForSequenceClassification model).\n",
      "Some weights of BertForSequenceClassification were not initialized from the model checkpoint at bert-base-uncased and are newly initialized: ['classifier.bias', 'classifier.weight']\n",
      "You should probably TRAIN this model on a down-stream task to be able to use it for predictions and inference.\n"
     ]
    }
   ],
   "source": [
    "# initialising pre-trained BERT\n",
    "\n",
    "model = BertForSequenceClassification.from_pretrained(\n",
    "    'bert-base-uncased',\n",
    "    num_labels = 2,\n",
    "    output_attentions = False,\n",
    "    output_hidden_states = False,\n",
    ")\n",
    "try:\n",
    "    model.cuda()\n",
    "except AssertionError:\n",
    "    pass"
   ]
  },
  {
   "cell_type": "code",
   "execution_count": 63,
   "id": "62c019cb",
   "metadata": {
    "colab": {
     "base_uri": "https://localhost:8080/"
    },
    "id": "62c019cb",
    "outputId": "80e8d211-7d50-4703-bfb0-96d4c22b267d"
   },
   "outputs": [
    {
     "name": "stderr",
     "output_type": "stream",
     "text": [
      "Epoch:   0%|          | 0/10 [00:00<?, ?it/s]"
     ]
    },
    {
     "name": "stdout",
     "output_type": "stream",
     "text": [
      "\n",
      "\t - Train loss: 1.0363\n",
      "\n",
      "\t - Train loss: 0.8456\n",
      "\n",
      "\t - Train loss: 0.7861\n",
      "\n",
      "\t - Train loss: 0.7579\n",
      "\n",
      "\t - Train loss: 0.7674\n",
      "\n",
      "\t - Train loss: 0.7440\n",
      "\n",
      "\t - Train loss: 0.7384\n",
      "\n",
      "\t - Train loss: 0.7294\n",
      "\n",
      "\t - Train loss: 0.7258\n",
      "\n",
      "\t - Train loss: 0.7148\n",
      "\n",
      "\t - Train loss: 0.6973\n",
      "\n",
      "\t - Train loss: 0.6795\n",
      "\n",
      "\t - Train loss: 0.6681\n",
      "\n",
      "\t - Train loss: 0.6636\n",
      "\n",
      "\t - Train loss: 0.6397\n",
      "\n",
      "\t - Train loss: 0.6221\n",
      "\n",
      "\t - Train loss: 0.6092\n",
      "\n",
      "\t - Train loss: 0.5919\n",
      "\n",
      "\t - Train loss: 0.5848\n",
      "\n",
      "\t - Train loss: 0.5823\n",
      "\n",
      "\t - Train loss: 0.5810\n",
      "\n",
      "\t - Train loss: 0.5757\n",
      "\n",
      "\t - Train loss: 0.5716\n",
      "\n",
      "\t - Train loss: 0.5557\n"
     ]
    },
    {
     "name": "stderr",
     "output_type": "stream",
     "text": [
      "Epoch:   0%|          | 0/10 [00:01<?, ?it/s]"
     ]
    },
    {
     "name": "stdout",
     "output_type": "stream",
     "text": [
      "\n",
      "\t - Train loss: 0.5432\n"
     ]
    },
    {
     "name": "stderr",
     "output_type": "stream",
     "text": [
      "\n"
     ]
    }
   ],
   "source": [
    "# BERT fine-tuning\n",
    "model = bert_train(model, train_dataloader, epochs=10)"
   ]
  },
  {
   "cell_type": "code",
   "execution_count": 64,
   "id": "6e94e6b0",
   "metadata": {
    "colab": {
     "base_uri": "https://localhost:8080/"
    },
    "id": "6e94e6b0",
    "outputId": "5b54737f-f4df-4963-e7aa-7a25269491ec"
   },
   "outputs": [
    {
     "name": "stdout",
     "output_type": "stream",
     "text": [
      "\t - Validation Accuracy: 0.9375\n",
      "\t - Validation Precision: 0.9369331065759638\n",
      "\t - Validation Recall: 0.9435657596371883\n",
      "\t - Validation f1: 0.9369331065759638\n",
      "\t - Validation ROC-AUC: 0.9435657596371883\n"
     ]
    }
   ],
   "source": [
    "# pre-trained model evaluation\n",
    "bert_eval(model, validation_dataloader)"
   ]
  },
  {
   "cell_type": "markdown",
   "id": "73-fchzEPfUw",
   "metadata": {
    "id": "73-fchzEPfUw"
   },
   "source": [
    "BERT results are significantly better than logreg, but inferece is longer. The results may be enhanced if the dataset is broadened. For now, I'll use logreg in prod as it while the program is tested."
   ]
  },
  {
   "cell_type": "code",
   "execution_count": null,
   "id": "4f893fab",
   "metadata": {
    "id": "4f893fab"
   },
   "outputs": [],
   "source": [
    "# saving model to pikle file\n",
    "with open(\"logreg_model.pkl\", 'wb') as file:\n",
    "    pickle.dump((clf, tfidf), file)"
   ]
  },
  {
   "cell_type": "code",
   "execution_count": null,
   "id": "1c6ed14a",
   "metadata": {
    "id": "1c6ed14a"
   },
   "outputs": [],
   "source": [
    "# prediction\n",
    "#df = pd.read_excel('test_dataset.xlsx')\n",
    "#prediction(df, clf, tfidf)"
   ]
  },
  {
   "cell_type": "code",
   "execution_count": null,
   "id": "d2d68506",
   "metadata": {
    "id": "d2d68506"
   },
   "outputs": [],
   "source": []
  }
 ],
 "metadata": {
  "accelerator": "GPU",
  "colab": {
   "provenance": []
  },
  "gpuClass": "standard",
  "kernelspec": {
   "name": "gpu2",
   "language": "python",
   "display_name": "gpu2"
  },
  "language_info": {
   "codemirror_mode": {
    "name": "ipython",
    "version": 3
   },
   "file_extension": ".py",
   "mimetype": "text/x-python",
   "name": "python",
   "nbconvert_exporter": "python",
   "pygments_lexer": "ipython3",
   "version": "3.9.13"
  },
  "widgets": {
   "application/vnd.jupyter.widget-state+json": {
    "02196ad4f45c4c55a9a6613658157fa7": {
     "model_module": "@jupyter-widgets/controls",
     "model_module_version": "1.5.0",
     "model_name": "HTMLModel",
     "state": {
      "_dom_classes": [],
      "_model_module": "@jupyter-widgets/controls",
      "_model_module_version": "1.5.0",
      "_model_name": "HTMLModel",
      "_view_count": null,
      "_view_module": "@jupyter-widgets/controls",
      "_view_module_version": "1.5.0",
      "_view_name": "HTMLView",
      "description": "",
      "description_tooltip": null,
      "layout": "IPY_MODEL_d16a927128194f1281f8d1196e0874a8",
      "placeholder": "​",
      "style": "IPY_MODEL_1eac6e8e59c74a739b37714cfad4bb84",
      "value": " 232k/232k [00:00&lt;00:00, 263kB/s]"
     }
    },
    "0698b87b0e48416ebeda6cff57776f41": {
     "model_module": "@jupyter-widgets/controls",
     "model_module_version": "1.5.0",
     "model_name": "FloatProgressModel",
     "state": {
      "_dom_classes": [],
      "_model_module": "@jupyter-widgets/controls",
      "_model_module_version": "1.5.0",
      "_model_name": "FloatProgressModel",
      "_view_count": null,
      "_view_module": "@jupyter-widgets/controls",
      "_view_module_version": "1.5.0",
      "_view_name": "ProgressView",
      "bar_style": "success",
      "description": "",
      "description_tooltip": null,
      "layout": "IPY_MODEL_b6a26968d60344479ee09847d9f6a4a7",
      "max": 231508,
      "min": 0,
      "orientation": "horizontal",
      "style": "IPY_MODEL_95e48384483946d1ad7014da77148e8e",
      "value": 231508
     }
    },
    "0e00d8ac7a6a4e3e85e93ed04b8d0d28": {
     "model_module": "@jupyter-widgets/controls",
     "model_module_version": "1.5.0",
     "model_name": "DescriptionStyleModel",
     "state": {
      "_model_module": "@jupyter-widgets/controls",
      "_model_module_version": "1.5.0",
      "_model_name": "DescriptionStyleModel",
      "_view_count": null,
      "_view_module": "@jupyter-widgets/base",
      "_view_module_version": "1.2.0",
      "_view_name": "StyleView",
      "description_width": ""
     }
    },
    "1dcb4101a8f440e992d82f81cfb99a67": {
     "model_module": "@jupyter-widgets/controls",
     "model_module_version": "1.5.0",
     "model_name": "FloatProgressModel",
     "state": {
      "_dom_classes": [],
      "_model_module": "@jupyter-widgets/controls",
      "_model_module_version": "1.5.0",
      "_model_name": "FloatProgressModel",
      "_view_count": null,
      "_view_module": "@jupyter-widgets/controls",
      "_view_module_version": "1.5.0",
      "_view_name": "ProgressView",
      "bar_style": "success",
      "description": "",
      "description_tooltip": null,
      "layout": "IPY_MODEL_d3c981b1f09a47648e680d02d294a49c",
      "max": 570,
      "min": 0,
      "orientation": "horizontal",
      "style": "IPY_MODEL_4d9d667e7f484967a9590102992fe92b",
      "value": 570
     }
    },
    "1eac6e8e59c74a739b37714cfad4bb84": {
     "model_module": "@jupyter-widgets/controls",
     "model_module_version": "1.5.0",
     "model_name": "DescriptionStyleModel",
     "state": {
      "_model_module": "@jupyter-widgets/controls",
      "_model_module_version": "1.5.0",
      "_model_name": "DescriptionStyleModel",
      "_view_count": null,
      "_view_module": "@jupyter-widgets/base",
      "_view_module_version": "1.2.0",
      "_view_name": "StyleView",
      "description_width": ""
     }
    },
    "27f17dc9bdd34062a0af7e01a5f573a6": {
     "model_module": "@jupyter-widgets/controls",
     "model_module_version": "1.5.0",
     "model_name": "HBoxModel",
     "state": {
      "_dom_classes": [],
      "_model_module": "@jupyter-widgets/controls",
      "_model_module_version": "1.5.0",
      "_model_name": "HBoxModel",
      "_view_count": null,
      "_view_module": "@jupyter-widgets/controls",
      "_view_module_version": "1.5.0",
      "_view_name": "HBoxView",
      "box_style": "",
      "children": [
       "IPY_MODEL_569d7af621894db0bb3e8b06892cfc3b",
       "IPY_MODEL_afef8af173da4d52ae2dce0c7be70b55",
       "IPY_MODEL_d1138e9493e145b68bf19813893fe4c6"
      ],
      "layout": "IPY_MODEL_2fb6ec1c2219445b9e659bfba8882fa0"
     }
    },
    "28e3c246eda24c8686b291d85b8762a9": {
     "model_module": "@jupyter-widgets/base",
     "model_module_version": "1.2.0",
     "model_name": "LayoutModel",
     "state": {
      "_model_module": "@jupyter-widgets/base",
      "_model_module_version": "1.2.0",
      "_model_name": "LayoutModel",
      "_view_count": null,
      "_view_module": "@jupyter-widgets/base",
      "_view_module_version": "1.2.0",
      "_view_name": "LayoutView",
      "align_content": null,
      "align_items": null,
      "align_self": null,
      "border": null,
      "bottom": null,
      "display": null,
      "flex": null,
      "flex_flow": null,
      "grid_area": null,
      "grid_auto_columns": null,
      "grid_auto_flow": null,
      "grid_auto_rows": null,
      "grid_column": null,
      "grid_gap": null,
      "grid_row": null,
      "grid_template_areas": null,
      "grid_template_columns": null,
      "grid_template_rows": null,
      "height": null,
      "justify_content": null,
      "justify_items": null,
      "left": null,
      "margin": null,
      "max_height": null,
      "max_width": null,
      "min_height": null,
      "min_width": null,
      "object_fit": null,
      "object_position": null,
      "order": null,
      "overflow": null,
      "overflow_x": null,
      "overflow_y": null,
      "padding": null,
      "right": null,
      "top": null,
      "visibility": null,
      "width": null
     }
    },
    "2fb6ec1c2219445b9e659bfba8882fa0": {
     "model_module": "@jupyter-widgets/base",
     "model_module_version": "1.2.0",
     "model_name": "LayoutModel",
     "state": {
      "_model_module": "@jupyter-widgets/base",
      "_model_module_version": "1.2.0",
      "_model_name": "LayoutModel",
      "_view_count": null,
      "_view_module": "@jupyter-widgets/base",
      "_view_module_version": "1.2.0",
      "_view_name": "LayoutView",
      "align_content": null,
      "align_items": null,
      "align_self": null,
      "border": null,
      "bottom": null,
      "display": null,
      "flex": null,
      "flex_flow": null,
      "grid_area": null,
      "grid_auto_columns": null,
      "grid_auto_flow": null,
      "grid_auto_rows": null,
      "grid_column": null,
      "grid_gap": null,
      "grid_row": null,
      "grid_template_areas": null,
      "grid_template_columns": null,
      "grid_template_rows": null,
      "height": null,
      "justify_content": null,
      "justify_items": null,
      "left": null,
      "margin": null,
      "max_height": null,
      "max_width": null,
      "min_height": null,
      "min_width": null,
      "object_fit": null,
      "object_position": null,
      "order": null,
      "overflow": null,
      "overflow_x": null,
      "overflow_y": null,
      "padding": null,
      "right": null,
      "top": null,
      "visibility": null,
      "width": null
     }
    },
    "34d4f6f8b5a140bcb41049b86f531eca": {
     "model_module": "@jupyter-widgets/base",
     "model_module_version": "1.2.0",
     "model_name": "LayoutModel",
     "state": {
      "_model_module": "@jupyter-widgets/base",
      "_model_module_version": "1.2.0",
      "_model_name": "LayoutModel",
      "_view_count": null,
      "_view_module": "@jupyter-widgets/base",
      "_view_module_version": "1.2.0",
      "_view_name": "LayoutView",
      "align_content": null,
      "align_items": null,
      "align_self": null,
      "border": null,
      "bottom": null,
      "display": null,
      "flex": null,
      "flex_flow": null,
      "grid_area": null,
      "grid_auto_columns": null,
      "grid_auto_flow": null,
      "grid_auto_rows": null,
      "grid_column": null,
      "grid_gap": null,
      "grid_row": null,
      "grid_template_areas": null,
      "grid_template_columns": null,
      "grid_template_rows": null,
      "height": null,
      "justify_content": null,
      "justify_items": null,
      "left": null,
      "margin": null,
      "max_height": null,
      "max_width": null,
      "min_height": null,
      "min_width": null,
      "object_fit": null,
      "object_position": null,
      "order": null,
      "overflow": null,
      "overflow_x": null,
      "overflow_y": null,
      "padding": null,
      "right": null,
      "top": null,
      "visibility": null,
      "width": null
     }
    },
    "3609f8a3305b470aa7b4587117c906bf": {
     "model_module": "@jupyter-widgets/base",
     "model_module_version": "1.2.0",
     "model_name": "LayoutModel",
     "state": {
      "_model_module": "@jupyter-widgets/base",
      "_model_module_version": "1.2.0",
      "_model_name": "LayoutModel",
      "_view_count": null,
      "_view_module": "@jupyter-widgets/base",
      "_view_module_version": "1.2.0",
      "_view_name": "LayoutView",
      "align_content": null,
      "align_items": null,
      "align_self": null,
      "border": null,
      "bottom": null,
      "display": null,
      "flex": null,
      "flex_flow": null,
      "grid_area": null,
      "grid_auto_columns": null,
      "grid_auto_flow": null,
      "grid_auto_rows": null,
      "grid_column": null,
      "grid_gap": null,
      "grid_row": null,
      "grid_template_areas": null,
      "grid_template_columns": null,
      "grid_template_rows": null,
      "height": null,
      "justify_content": null,
      "justify_items": null,
      "left": null,
      "margin": null,
      "max_height": null,
      "max_width": null,
      "min_height": null,
      "min_width": null,
      "object_fit": null,
      "object_position": null,
      "order": null,
      "overflow": null,
      "overflow_x": null,
      "overflow_y": null,
      "padding": null,
      "right": null,
      "top": null,
      "visibility": null,
      "width": null
     }
    },
    "3b07ead01acf4a589cb0142d2eec92e9": {
     "model_module": "@jupyter-widgets/base",
     "model_module_version": "1.2.0",
     "model_name": "LayoutModel",
     "state": {
      "_model_module": "@jupyter-widgets/base",
      "_model_module_version": "1.2.0",
      "_model_name": "LayoutModel",
      "_view_count": null,
      "_view_module": "@jupyter-widgets/base",
      "_view_module_version": "1.2.0",
      "_view_name": "LayoutView",
      "align_content": null,
      "align_items": null,
      "align_self": null,
      "border": null,
      "bottom": null,
      "display": null,
      "flex": null,
      "flex_flow": null,
      "grid_area": null,
      "grid_auto_columns": null,
      "grid_auto_flow": null,
      "grid_auto_rows": null,
      "grid_column": null,
      "grid_gap": null,
      "grid_row": null,
      "grid_template_areas": null,
      "grid_template_columns": null,
      "grid_template_rows": null,
      "height": null,
      "justify_content": null,
      "justify_items": null,
      "left": null,
      "margin": null,
      "max_height": null,
      "max_width": null,
      "min_height": null,
      "min_width": null,
      "object_fit": null,
      "object_position": null,
      "order": null,
      "overflow": null,
      "overflow_x": null,
      "overflow_y": null,
      "padding": null,
      "right": null,
      "top": null,
      "visibility": null,
      "width": null
     }
    },
    "46f755596030402682e82589ad858193": {
     "model_module": "@jupyter-widgets/controls",
     "model_module_version": "1.5.0",
     "model_name": "DescriptionStyleModel",
     "state": {
      "_model_module": "@jupyter-widgets/controls",
      "_model_module_version": "1.5.0",
      "_model_name": "DescriptionStyleModel",
      "_view_count": null,
      "_view_module": "@jupyter-widgets/base",
      "_view_module_version": "1.2.0",
      "_view_name": "StyleView",
      "description_width": ""
     }
    },
    "4d9d667e7f484967a9590102992fe92b": {
     "model_module": "@jupyter-widgets/controls",
     "model_module_version": "1.5.0",
     "model_name": "ProgressStyleModel",
     "state": {
      "_model_module": "@jupyter-widgets/controls",
      "_model_module_version": "1.5.0",
      "_model_name": "ProgressStyleModel",
      "_view_count": null,
      "_view_module": "@jupyter-widgets/base",
      "_view_module_version": "1.2.0",
      "_view_name": "StyleView",
      "bar_color": null,
      "description_width": ""
     }
    },
    "4f7acc86af1d4bdfba1a888fa38bf545": {
     "model_module": "@jupyter-widgets/controls",
     "model_module_version": "1.5.0",
     "model_name": "HBoxModel",
     "state": {
      "_dom_classes": [],
      "_model_module": "@jupyter-widgets/controls",
      "_model_module_version": "1.5.0",
      "_model_name": "HBoxModel",
      "_view_count": null,
      "_view_module": "@jupyter-widgets/controls",
      "_view_module_version": "1.5.0",
      "_view_name": "HBoxView",
      "box_style": "",
      "children": [
       "IPY_MODEL_bf7119f53ca642e3b519f3ab09ac4704",
       "IPY_MODEL_a767020a8a1d4c808cc42d6e5244c01d",
       "IPY_MODEL_acb91132c2624311bbe814a40e3f404b"
      ],
      "layout": "IPY_MODEL_28e3c246eda24c8686b291d85b8762a9"
     }
    },
    "53aa3a9685f44ca4a9b1630b7ad19959": {
     "model_module": "@jupyter-widgets/controls",
     "model_module_version": "1.5.0",
     "model_name": "DescriptionStyleModel",
     "state": {
      "_model_module": "@jupyter-widgets/controls",
      "_model_module_version": "1.5.0",
      "_model_name": "DescriptionStyleModel",
      "_view_count": null,
      "_view_module": "@jupyter-widgets/base",
      "_view_module_version": "1.2.0",
      "_view_name": "StyleView",
      "description_width": ""
     }
    },
    "569d7af621894db0bb3e8b06892cfc3b": {
     "model_module": "@jupyter-widgets/controls",
     "model_module_version": "1.5.0",
     "model_name": "HTMLModel",
     "state": {
      "_dom_classes": [],
      "_model_module": "@jupyter-widgets/controls",
      "_model_module_version": "1.5.0",
      "_model_name": "HTMLModel",
      "_view_count": null,
      "_view_module": "@jupyter-widgets/controls",
      "_view_module_version": "1.5.0",
      "_view_name": "HTMLView",
      "description": "",
      "description_tooltip": null,
      "layout": "IPY_MODEL_5eaf37cbfd934937bea86ecac7c6292f",
      "placeholder": "​",
      "style": "IPY_MODEL_0e00d8ac7a6a4e3e85e93ed04b8d0d28",
      "value": "Downloading: 100%"
     }
    },
    "5eaf37cbfd934937bea86ecac7c6292f": {
     "model_module": "@jupyter-widgets/base",
     "model_module_version": "1.2.0",
     "model_name": "LayoutModel",
     "state": {
      "_model_module": "@jupyter-widgets/base",
      "_model_module_version": "1.2.0",
      "_model_name": "LayoutModel",
      "_view_count": null,
      "_view_module": "@jupyter-widgets/base",
      "_view_module_version": "1.2.0",
      "_view_name": "LayoutView",
      "align_content": null,
      "align_items": null,
      "align_self": null,
      "border": null,
      "bottom": null,
      "display": null,
      "flex": null,
      "flex_flow": null,
      "grid_area": null,
      "grid_auto_columns": null,
      "grid_auto_flow": null,
      "grid_auto_rows": null,
      "grid_column": null,
      "grid_gap": null,
      "grid_row": null,
      "grid_template_areas": null,
      "grid_template_columns": null,
      "grid_template_rows": null,
      "height": null,
      "justify_content": null,
      "justify_items": null,
      "left": null,
      "margin": null,
      "max_height": null,
      "max_width": null,
      "min_height": null,
      "min_width": null,
      "object_fit": null,
      "object_position": null,
      "order": null,
      "overflow": null,
      "overflow_x": null,
      "overflow_y": null,
      "padding": null,
      "right": null,
      "top": null,
      "visibility": null,
      "width": null
     }
    },
    "62b6c31af1714476b257095d74da2dc5": {
     "model_module": "@jupyter-widgets/base",
     "model_module_version": "1.2.0",
     "model_name": "LayoutModel",
     "state": {
      "_model_module": "@jupyter-widgets/base",
      "_model_module_version": "1.2.0",
      "_model_name": "LayoutModel",
      "_view_count": null,
      "_view_module": "@jupyter-widgets/base",
      "_view_module_version": "1.2.0",
      "_view_name": "LayoutView",
      "align_content": null,
      "align_items": null,
      "align_self": null,
      "border": null,
      "bottom": null,
      "display": null,
      "flex": null,
      "flex_flow": null,
      "grid_area": null,
      "grid_auto_columns": null,
      "grid_auto_flow": null,
      "grid_auto_rows": null,
      "grid_column": null,
      "grid_gap": null,
      "grid_row": null,
      "grid_template_areas": null,
      "grid_template_columns": null,
      "grid_template_rows": null,
      "height": null,
      "justify_content": null,
      "justify_items": null,
      "left": null,
      "margin": null,
      "max_height": null,
      "max_width": null,
      "min_height": null,
      "min_width": null,
      "object_fit": null,
      "object_position": null,
      "order": null,
      "overflow": null,
      "overflow_x": null,
      "overflow_y": null,
      "padding": null,
      "right": null,
      "top": null,
      "visibility": null,
      "width": null
     }
    },
    "683ceb82888a44348861f7ae37646f03": {
     "model_module": "@jupyter-widgets/controls",
     "model_module_version": "1.5.0",
     "model_name": "ProgressStyleModel",
     "state": {
      "_model_module": "@jupyter-widgets/controls",
      "_model_module_version": "1.5.0",
      "_model_name": "ProgressStyleModel",
      "_view_count": null,
      "_view_module": "@jupyter-widgets/base",
      "_view_module_version": "1.2.0",
      "_view_name": "StyleView",
      "bar_color": null,
      "description_width": ""
     }
    },
    "704f8f9a536548338b82d6894ab21089": {
     "model_module": "@jupyter-widgets/base",
     "model_module_version": "1.2.0",
     "model_name": "LayoutModel",
     "state": {
      "_model_module": "@jupyter-widgets/base",
      "_model_module_version": "1.2.0",
      "_model_name": "LayoutModel",
      "_view_count": null,
      "_view_module": "@jupyter-widgets/base",
      "_view_module_version": "1.2.0",
      "_view_name": "LayoutView",
      "align_content": null,
      "align_items": null,
      "align_self": null,
      "border": null,
      "bottom": null,
      "display": null,
      "flex": null,
      "flex_flow": null,
      "grid_area": null,
      "grid_auto_columns": null,
      "grid_auto_flow": null,
      "grid_auto_rows": null,
      "grid_column": null,
      "grid_gap": null,
      "grid_row": null,
      "grid_template_areas": null,
      "grid_template_columns": null,
      "grid_template_rows": null,
      "height": null,
      "justify_content": null,
      "justify_items": null,
      "left": null,
      "margin": null,
      "max_height": null,
      "max_width": null,
      "min_height": null,
      "min_width": null,
      "object_fit": null,
      "object_position": null,
      "order": null,
      "overflow": null,
      "overflow_x": null,
      "overflow_y": null,
      "padding": null,
      "right": null,
      "top": null,
      "visibility": null,
      "width": null
     }
    },
    "766ae74c5beb4039ac6cc8757a0b2141": {
     "model_module": "@jupyter-widgets/controls",
     "model_module_version": "1.5.0",
     "model_name": "HBoxModel",
     "state": {
      "_dom_classes": [],
      "_model_module": "@jupyter-widgets/controls",
      "_model_module_version": "1.5.0",
      "_model_name": "HBoxModel",
      "_view_count": null,
      "_view_module": "@jupyter-widgets/controls",
      "_view_module_version": "1.5.0",
      "_view_name": "HBoxView",
      "box_style": "",
      "children": [
       "IPY_MODEL_e2899116ce144bc6b9092b9e6bdbf46e",
       "IPY_MODEL_1dcb4101a8f440e992d82f81cfb99a67",
       "IPY_MODEL_f44c96c477674a8aa96041d0326bea43"
      ],
      "layout": "IPY_MODEL_3609f8a3305b470aa7b4587117c906bf"
     }
    },
    "777ef5db74104fc4aa74b19a0f333547": {
     "model_module": "@jupyter-widgets/controls",
     "model_module_version": "1.5.0",
     "model_name": "ProgressStyleModel",
     "state": {
      "_model_module": "@jupyter-widgets/controls",
      "_model_module_version": "1.5.0",
      "_model_name": "ProgressStyleModel",
      "_view_count": null,
      "_view_module": "@jupyter-widgets/base",
      "_view_module_version": "1.2.0",
      "_view_name": "StyleView",
      "bar_color": null,
      "description_width": ""
     }
    },
    "95323af7478e4381819dd7ba43681845": {
     "model_module": "@jupyter-widgets/base",
     "model_module_version": "1.2.0",
     "model_name": "LayoutModel",
     "state": {
      "_model_module": "@jupyter-widgets/base",
      "_model_module_version": "1.2.0",
      "_model_name": "LayoutModel",
      "_view_count": null,
      "_view_module": "@jupyter-widgets/base",
      "_view_module_version": "1.2.0",
      "_view_name": "LayoutView",
      "align_content": null,
      "align_items": null,
      "align_self": null,
      "border": null,
      "bottom": null,
      "display": null,
      "flex": null,
      "flex_flow": null,
      "grid_area": null,
      "grid_auto_columns": null,
      "grid_auto_flow": null,
      "grid_auto_rows": null,
      "grid_column": null,
      "grid_gap": null,
      "grid_row": null,
      "grid_template_areas": null,
      "grid_template_columns": null,
      "grid_template_rows": null,
      "height": null,
      "justify_content": null,
      "justify_items": null,
      "left": null,
      "margin": null,
      "max_height": null,
      "max_width": null,
      "min_height": null,
      "min_width": null,
      "object_fit": null,
      "object_position": null,
      "order": null,
      "overflow": null,
      "overflow_x": null,
      "overflow_y": null,
      "padding": null,
      "right": null,
      "top": null,
      "visibility": null,
      "width": null
     }
    },
    "958b2202049d4acc928d45c5907c168a": {
     "model_module": "@jupyter-widgets/base",
     "model_module_version": "1.2.0",
     "model_name": "LayoutModel",
     "state": {
      "_model_module": "@jupyter-widgets/base",
      "_model_module_version": "1.2.0",
      "_model_name": "LayoutModel",
      "_view_count": null,
      "_view_module": "@jupyter-widgets/base",
      "_view_module_version": "1.2.0",
      "_view_name": "LayoutView",
      "align_content": null,
      "align_items": null,
      "align_self": null,
      "border": null,
      "bottom": null,
      "display": null,
      "flex": null,
      "flex_flow": null,
      "grid_area": null,
      "grid_auto_columns": null,
      "grid_auto_flow": null,
      "grid_auto_rows": null,
      "grid_column": null,
      "grid_gap": null,
      "grid_row": null,
      "grid_template_areas": null,
      "grid_template_columns": null,
      "grid_template_rows": null,
      "height": null,
      "justify_content": null,
      "justify_items": null,
      "left": null,
      "margin": null,
      "max_height": null,
      "max_width": null,
      "min_height": null,
      "min_width": null,
      "object_fit": null,
      "object_position": null,
      "order": null,
      "overflow": null,
      "overflow_x": null,
      "overflow_y": null,
      "padding": null,
      "right": null,
      "top": null,
      "visibility": null,
      "width": null
     }
    },
    "95d051bd5e6645f5b38c5cc778ca518b": {
     "model_module": "@jupyter-widgets/controls",
     "model_module_version": "1.5.0",
     "model_name": "DescriptionStyleModel",
     "state": {
      "_model_module": "@jupyter-widgets/controls",
      "_model_module_version": "1.5.0",
      "_model_name": "DescriptionStyleModel",
      "_view_count": null,
      "_view_module": "@jupyter-widgets/base",
      "_view_module_version": "1.2.0",
      "_view_name": "StyleView",
      "description_width": ""
     }
    },
    "95e48384483946d1ad7014da77148e8e": {
     "model_module": "@jupyter-widgets/controls",
     "model_module_version": "1.5.0",
     "model_name": "ProgressStyleModel",
     "state": {
      "_model_module": "@jupyter-widgets/controls",
      "_model_module_version": "1.5.0",
      "_model_name": "ProgressStyleModel",
      "_view_count": null,
      "_view_module": "@jupyter-widgets/base",
      "_view_module_version": "1.2.0",
      "_view_name": "StyleView",
      "bar_color": null,
      "description_width": ""
     }
    },
    "a767020a8a1d4c808cc42d6e5244c01d": {
     "model_module": "@jupyter-widgets/controls",
     "model_module_version": "1.5.0",
     "model_name": "FloatProgressModel",
     "state": {
      "_dom_classes": [],
      "_model_module": "@jupyter-widgets/controls",
      "_model_module_version": "1.5.0",
      "_model_name": "FloatProgressModel",
      "_view_count": null,
      "_view_module": "@jupyter-widgets/controls",
      "_view_module_version": "1.5.0",
      "_view_name": "ProgressView",
      "bar_style": "success",
      "description": "",
      "description_tooltip": null,
      "layout": "IPY_MODEL_95323af7478e4381819dd7ba43681845",
      "max": 440473133,
      "min": 0,
      "orientation": "horizontal",
      "style": "IPY_MODEL_683ceb82888a44348861f7ae37646f03",
      "value": 440473133
     }
    },
    "a97731f9b16747919b66486871ad8221": {
     "model_module": "@jupyter-widgets/controls",
     "model_module_version": "1.5.0",
     "model_name": "DescriptionStyleModel",
     "state": {
      "_model_module": "@jupyter-widgets/controls",
      "_model_module_version": "1.5.0",
      "_model_name": "DescriptionStyleModel",
      "_view_count": null,
      "_view_module": "@jupyter-widgets/base",
      "_view_module_version": "1.2.0",
      "_view_name": "StyleView",
      "description_width": ""
     }
    },
    "acb91132c2624311bbe814a40e3f404b": {
     "model_module": "@jupyter-widgets/controls",
     "model_module_version": "1.5.0",
     "model_name": "HTMLModel",
     "state": {
      "_dom_classes": [],
      "_model_module": "@jupyter-widgets/controls",
      "_model_module_version": "1.5.0",
      "_model_name": "HTMLModel",
      "_view_count": null,
      "_view_module": "@jupyter-widgets/controls",
      "_view_module_version": "1.5.0",
      "_view_name": "HTMLView",
      "description": "",
      "description_tooltip": null,
      "layout": "IPY_MODEL_34d4f6f8b5a140bcb41049b86f531eca",
      "placeholder": "​",
      "style": "IPY_MODEL_f6f221daac4a43f989edcdc33fadf16f",
      "value": " 440M/440M [00:06&lt;00:00, 65.0MB/s]"
     }
    },
    "afef8af173da4d52ae2dce0c7be70b55": {
     "model_module": "@jupyter-widgets/controls",
     "model_module_version": "1.5.0",
     "model_name": "FloatProgressModel",
     "state": {
      "_dom_classes": [],
      "_model_module": "@jupyter-widgets/controls",
      "_model_module_version": "1.5.0",
      "_model_name": "FloatProgressModel",
      "_view_count": null,
      "_view_module": "@jupyter-widgets/controls",
      "_view_module_version": "1.5.0",
      "_view_name": "ProgressView",
      "bar_style": "success",
      "description": "",
      "description_tooltip": null,
      "layout": "IPY_MODEL_bb6ccbaf74c8470f935a985ea9e85807",
      "max": 28,
      "min": 0,
      "orientation": "horizontal",
      "style": "IPY_MODEL_777ef5db74104fc4aa74b19a0f333547",
      "value": 28
     }
    },
    "b6a26968d60344479ee09847d9f6a4a7": {
     "model_module": "@jupyter-widgets/base",
     "model_module_version": "1.2.0",
     "model_name": "LayoutModel",
     "state": {
      "_model_module": "@jupyter-widgets/base",
      "_model_module_version": "1.2.0",
      "_model_name": "LayoutModel",
      "_view_count": null,
      "_view_module": "@jupyter-widgets/base",
      "_view_module_version": "1.2.0",
      "_view_name": "LayoutView",
      "align_content": null,
      "align_items": null,
      "align_self": null,
      "border": null,
      "bottom": null,
      "display": null,
      "flex": null,
      "flex_flow": null,
      "grid_area": null,
      "grid_auto_columns": null,
      "grid_auto_flow": null,
      "grid_auto_rows": null,
      "grid_column": null,
      "grid_gap": null,
      "grid_row": null,
      "grid_template_areas": null,
      "grid_template_columns": null,
      "grid_template_rows": null,
      "height": null,
      "justify_content": null,
      "justify_items": null,
      "left": null,
      "margin": null,
      "max_height": null,
      "max_width": null,
      "min_height": null,
      "min_width": null,
      "object_fit": null,
      "object_position": null,
      "order": null,
      "overflow": null,
      "overflow_x": null,
      "overflow_y": null,
      "padding": null,
      "right": null,
      "top": null,
      "visibility": null,
      "width": null
     }
    },
    "b9f17d4cd10d478191515123ed087135": {
     "model_module": "@jupyter-widgets/controls",
     "model_module_version": "1.5.0",
     "model_name": "HBoxModel",
     "state": {
      "_dom_classes": [],
      "_model_module": "@jupyter-widgets/controls",
      "_model_module_version": "1.5.0",
      "_model_name": "HBoxModel",
      "_view_count": null,
      "_view_module": "@jupyter-widgets/controls",
      "_view_module_version": "1.5.0",
      "_view_name": "HBoxView",
      "box_style": "",
      "children": [
       "IPY_MODEL_f669763a612e4a13b8412c9b56d43a6a",
       "IPY_MODEL_0698b87b0e48416ebeda6cff57776f41",
       "IPY_MODEL_02196ad4f45c4c55a9a6613658157fa7"
      ],
      "layout": "IPY_MODEL_bec8fda873d34941bb657a2de8268643"
     }
    },
    "bb6ccbaf74c8470f935a985ea9e85807": {
     "model_module": "@jupyter-widgets/base",
     "model_module_version": "1.2.0",
     "model_name": "LayoutModel",
     "state": {
      "_model_module": "@jupyter-widgets/base",
      "_model_module_version": "1.2.0",
      "_model_name": "LayoutModel",
      "_view_count": null,
      "_view_module": "@jupyter-widgets/base",
      "_view_module_version": "1.2.0",
      "_view_name": "LayoutView",
      "align_content": null,
      "align_items": null,
      "align_self": null,
      "border": null,
      "bottom": null,
      "display": null,
      "flex": null,
      "flex_flow": null,
      "grid_area": null,
      "grid_auto_columns": null,
      "grid_auto_flow": null,
      "grid_auto_rows": null,
      "grid_column": null,
      "grid_gap": null,
      "grid_row": null,
      "grid_template_areas": null,
      "grid_template_columns": null,
      "grid_template_rows": null,
      "height": null,
      "justify_content": null,
      "justify_items": null,
      "left": null,
      "margin": null,
      "max_height": null,
      "max_width": null,
      "min_height": null,
      "min_width": null,
      "object_fit": null,
      "object_position": null,
      "order": null,
      "overflow": null,
      "overflow_x": null,
      "overflow_y": null,
      "padding": null,
      "right": null,
      "top": null,
      "visibility": null,
      "width": null
     }
    },
    "be5566f5654b4347bbed8a7960253e17": {
     "model_module": "@jupyter-widgets/controls",
     "model_module_version": "1.5.0",
     "model_name": "DescriptionStyleModel",
     "state": {
      "_model_module": "@jupyter-widgets/controls",
      "_model_module_version": "1.5.0",
      "_model_name": "DescriptionStyleModel",
      "_view_count": null,
      "_view_module": "@jupyter-widgets/base",
      "_view_module_version": "1.2.0",
      "_view_name": "StyleView",
      "description_width": ""
     }
    },
    "bec8fda873d34941bb657a2de8268643": {
     "model_module": "@jupyter-widgets/base",
     "model_module_version": "1.2.0",
     "model_name": "LayoutModel",
     "state": {
      "_model_module": "@jupyter-widgets/base",
      "_model_module_version": "1.2.0",
      "_model_name": "LayoutModel",
      "_view_count": null,
      "_view_module": "@jupyter-widgets/base",
      "_view_module_version": "1.2.0",
      "_view_name": "LayoutView",
      "align_content": null,
      "align_items": null,
      "align_self": null,
      "border": null,
      "bottom": null,
      "display": null,
      "flex": null,
      "flex_flow": null,
      "grid_area": null,
      "grid_auto_columns": null,
      "grid_auto_flow": null,
      "grid_auto_rows": null,
      "grid_column": null,
      "grid_gap": null,
      "grid_row": null,
      "grid_template_areas": null,
      "grid_template_columns": null,
      "grid_template_rows": null,
      "height": null,
      "justify_content": null,
      "justify_items": null,
      "left": null,
      "margin": null,
      "max_height": null,
      "max_width": null,
      "min_height": null,
      "min_width": null,
      "object_fit": null,
      "object_position": null,
      "order": null,
      "overflow": null,
      "overflow_x": null,
      "overflow_y": null,
      "padding": null,
      "right": null,
      "top": null,
      "visibility": null,
      "width": null
     }
    },
    "bf7119f53ca642e3b519f3ab09ac4704": {
     "model_module": "@jupyter-widgets/controls",
     "model_module_version": "1.5.0",
     "model_name": "HTMLModel",
     "state": {
      "_dom_classes": [],
      "_model_module": "@jupyter-widgets/controls",
      "_model_module_version": "1.5.0",
      "_model_name": "HTMLModel",
      "_view_count": null,
      "_view_module": "@jupyter-widgets/controls",
      "_view_module_version": "1.5.0",
      "_view_name": "HTMLView",
      "description": "",
      "description_tooltip": null,
      "layout": "IPY_MODEL_958b2202049d4acc928d45c5907c168a",
      "placeholder": "​",
      "style": "IPY_MODEL_53aa3a9685f44ca4a9b1630b7ad19959",
      "value": "Downloading: 100%"
     }
    },
    "c4fae3a4000742b1b2fd35fc56f5e6b5": {
     "model_module": "@jupyter-widgets/base",
     "model_module_version": "1.2.0",
     "model_name": "LayoutModel",
     "state": {
      "_model_module": "@jupyter-widgets/base",
      "_model_module_version": "1.2.0",
      "_model_name": "LayoutModel",
      "_view_count": null,
      "_view_module": "@jupyter-widgets/base",
      "_view_module_version": "1.2.0",
      "_view_name": "LayoutView",
      "align_content": null,
      "align_items": null,
      "align_self": null,
      "border": null,
      "bottom": null,
      "display": null,
      "flex": null,
      "flex_flow": null,
      "grid_area": null,
      "grid_auto_columns": null,
      "grid_auto_flow": null,
      "grid_auto_rows": null,
      "grid_column": null,
      "grid_gap": null,
      "grid_row": null,
      "grid_template_areas": null,
      "grid_template_columns": null,
      "grid_template_rows": null,
      "height": null,
      "justify_content": null,
      "justify_items": null,
      "left": null,
      "margin": null,
      "max_height": null,
      "max_width": null,
      "min_height": null,
      "min_width": null,
      "object_fit": null,
      "object_position": null,
      "order": null,
      "overflow": null,
      "overflow_x": null,
      "overflow_y": null,
      "padding": null,
      "right": null,
      "top": null,
      "visibility": null,
      "width": null
     }
    },
    "d1138e9493e145b68bf19813893fe4c6": {
     "model_module": "@jupyter-widgets/controls",
     "model_module_version": "1.5.0",
     "model_name": "HTMLModel",
     "state": {
      "_dom_classes": [],
      "_model_module": "@jupyter-widgets/controls",
      "_model_module_version": "1.5.0",
      "_model_name": "HTMLModel",
      "_view_count": null,
      "_view_module": "@jupyter-widgets/controls",
      "_view_module_version": "1.5.0",
      "_view_name": "HTMLView",
      "description": "",
      "description_tooltip": null,
      "layout": "IPY_MODEL_62b6c31af1714476b257095d74da2dc5",
      "placeholder": "​",
      "style": "IPY_MODEL_a97731f9b16747919b66486871ad8221",
      "value": " 28.0/28.0 [00:00&lt;00:00, 733B/s]"
     }
    },
    "d16a927128194f1281f8d1196e0874a8": {
     "model_module": "@jupyter-widgets/base",
     "model_module_version": "1.2.0",
     "model_name": "LayoutModel",
     "state": {
      "_model_module": "@jupyter-widgets/base",
      "_model_module_version": "1.2.0",
      "_model_name": "LayoutModel",
      "_view_count": null,
      "_view_module": "@jupyter-widgets/base",
      "_view_module_version": "1.2.0",
      "_view_name": "LayoutView",
      "align_content": null,
      "align_items": null,
      "align_self": null,
      "border": null,
      "bottom": null,
      "display": null,
      "flex": null,
      "flex_flow": null,
      "grid_area": null,
      "grid_auto_columns": null,
      "grid_auto_flow": null,
      "grid_auto_rows": null,
      "grid_column": null,
      "grid_gap": null,
      "grid_row": null,
      "grid_template_areas": null,
      "grid_template_columns": null,
      "grid_template_rows": null,
      "height": null,
      "justify_content": null,
      "justify_items": null,
      "left": null,
      "margin": null,
      "max_height": null,
      "max_width": null,
      "min_height": null,
      "min_width": null,
      "object_fit": null,
      "object_position": null,
      "order": null,
      "overflow": null,
      "overflow_x": null,
      "overflow_y": null,
      "padding": null,
      "right": null,
      "top": null,
      "visibility": null,
      "width": null
     }
    },
    "d3c981b1f09a47648e680d02d294a49c": {
     "model_module": "@jupyter-widgets/base",
     "model_module_version": "1.2.0",
     "model_name": "LayoutModel",
     "state": {
      "_model_module": "@jupyter-widgets/base",
      "_model_module_version": "1.2.0",
      "_model_name": "LayoutModel",
      "_view_count": null,
      "_view_module": "@jupyter-widgets/base",
      "_view_module_version": "1.2.0",
      "_view_name": "LayoutView",
      "align_content": null,
      "align_items": null,
      "align_self": null,
      "border": null,
      "bottom": null,
      "display": null,
      "flex": null,
      "flex_flow": null,
      "grid_area": null,
      "grid_auto_columns": null,
      "grid_auto_flow": null,
      "grid_auto_rows": null,
      "grid_column": null,
      "grid_gap": null,
      "grid_row": null,
      "grid_template_areas": null,
      "grid_template_columns": null,
      "grid_template_rows": null,
      "height": null,
      "justify_content": null,
      "justify_items": null,
      "left": null,
      "margin": null,
      "max_height": null,
      "max_width": null,
      "min_height": null,
      "min_width": null,
      "object_fit": null,
      "object_position": null,
      "order": null,
      "overflow": null,
      "overflow_x": null,
      "overflow_y": null,
      "padding": null,
      "right": null,
      "top": null,
      "visibility": null,
      "width": null
     }
    },
    "e2899116ce144bc6b9092b9e6bdbf46e": {
     "model_module": "@jupyter-widgets/controls",
     "model_module_version": "1.5.0",
     "model_name": "HTMLModel",
     "state": {
      "_dom_classes": [],
      "_model_module": "@jupyter-widgets/controls",
      "_model_module_version": "1.5.0",
      "_model_name": "HTMLModel",
      "_view_count": null,
      "_view_module": "@jupyter-widgets/controls",
      "_view_module_version": "1.5.0",
      "_view_name": "HTMLView",
      "description": "",
      "description_tooltip": null,
      "layout": "IPY_MODEL_3b07ead01acf4a589cb0142d2eec92e9",
      "placeholder": "​",
      "style": "IPY_MODEL_95d051bd5e6645f5b38c5cc778ca518b",
      "value": "Downloading: 100%"
     }
    },
    "f44c96c477674a8aa96041d0326bea43": {
     "model_module": "@jupyter-widgets/controls",
     "model_module_version": "1.5.0",
     "model_name": "HTMLModel",
     "state": {
      "_dom_classes": [],
      "_model_module": "@jupyter-widgets/controls",
      "_model_module_version": "1.5.0",
      "_model_name": "HTMLModel",
      "_view_count": null,
      "_view_module": "@jupyter-widgets/controls",
      "_view_module_version": "1.5.0",
      "_view_name": "HTMLView",
      "description": "",
      "description_tooltip": null,
      "layout": "IPY_MODEL_c4fae3a4000742b1b2fd35fc56f5e6b5",
      "placeholder": "​",
      "style": "IPY_MODEL_be5566f5654b4347bbed8a7960253e17",
      "value": " 570/570 [00:00&lt;00:00, 13.2kB/s]"
     }
    },
    "f669763a612e4a13b8412c9b56d43a6a": {
     "model_module": "@jupyter-widgets/controls",
     "model_module_version": "1.5.0",
     "model_name": "HTMLModel",
     "state": {
      "_dom_classes": [],
      "_model_module": "@jupyter-widgets/controls",
      "_model_module_version": "1.5.0",
      "_model_name": "HTMLModel",
      "_view_count": null,
      "_view_module": "@jupyter-widgets/controls",
      "_view_module_version": "1.5.0",
      "_view_name": "HTMLView",
      "description": "",
      "description_tooltip": null,
      "layout": "IPY_MODEL_704f8f9a536548338b82d6894ab21089",
      "placeholder": "​",
      "style": "IPY_MODEL_46f755596030402682e82589ad858193",
      "value": "Downloading: 100%"
     }
    },
    "f6f221daac4a43f989edcdc33fadf16f": {
     "model_module": "@jupyter-widgets/controls",
     "model_module_version": "1.5.0",
     "model_name": "DescriptionStyleModel",
     "state": {
      "_model_module": "@jupyter-widgets/controls",
      "_model_module_version": "1.5.0",
      "_model_name": "DescriptionStyleModel",
      "_view_count": null,
      "_view_module": "@jupyter-widgets/base",
      "_view_module_version": "1.2.0",
      "_view_name": "StyleView",
      "description_width": ""
     }
    }
   }
  }
 },
 "nbformat": 4,
 "nbformat_minor": 5
}
